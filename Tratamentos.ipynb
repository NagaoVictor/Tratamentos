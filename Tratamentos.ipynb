{
 "cells": [
  {
   "cell_type": "markdown",
   "id": "1eb5f1a9-c9db-4d06-a086-3ed4979870ed",
   "metadata": {},
   "source": [
    "<p style=\"color:#55FF55; font-family: 'Ink Free',  sans-serif; font-size: 30px; font-weight: bold;\">\n",
    "    Diretório atual\n",
    "</p>"
   ]
  },
  {
   "cell_type": "code",
   "execution_count": 17,
   "id": "21294149",
   "metadata": {
    "tags": []
   },
   "outputs": [
    {
     "data": {
      "text/plain": [
       "'C:\\\\Users\\\\joaov\\\\Desktop'"
      ]
     },
     "execution_count": 17,
     "metadata": {},
     "output_type": "execute_result"
    }
   ],
   "source": [
    "import pandas as pd\n",
    "import os\n",
    "os.chdir('C:\\\\Users\\\\joaov\\\\Desktop')\n",
    "os.getcwd()"
   ]
  },
  {
   "cell_type": "code",
   "execution_count": 2,
   "id": "48996c17-bfe0-4509-ac72-030e95089a00",
   "metadata": {
    "tags": []
   },
   "outputs": [
    {
     "data": {
      "text/plain": [
       "['dados.txt']"
      ]
     },
     "execution_count": 2,
     "metadata": {},
     "output_type": "execute_result"
    }
   ],
   "source": [
    "os.listdir()"
   ]
  },
  {
   "cell_type": "markdown",
   "id": "0f06e1e4-7deb-4d26-98c2-3bf1a4e8ecc9",
   "metadata": {},
   "source": [
    "<p style=\"color:#55FF55; font-family: 'Ink Free',  sans-serif; font-size: 30px; font-weight: bold;\">\n",
    "    Dados\n",
    "</p>"
   ]
  },
  {
   "cell_type": "code",
   "execution_count": 3,
   "id": "03fe5abf-8f41-48ad-878b-1f4eda763a0a",
   "metadata": {
    "tags": []
   },
   "outputs": [],
   "source": [
    "# Dados\n",
    "pessoas = [\n",
    "    {\"Nome\": \"Ana\", \"País\": \"Brasil\", \"Idade\": 28, \"Riqueza\": 19000, \"Profissão\": \"Engenheira\", \"Raça\": \"Branca\", \"Sexo\": \"Feminino\"},\n",
    "    {\"Nome\": \"João\", \"País\": \"Portugal\", \"Idade\": 34, \"Riqueza\": 161000, \"Profissão\": \"Médico\", \"Raça\": \"Negra\", \"Sexo\": \"Masculino\"},\n",
    "    {\"Nome\": \"Aiko\", \"País\": \"Japão\", \"Idade\": 22, \"Riqueza\": 47000, \"Profissão\": \"Designer\", \"Raça\": \"Asiática\", \"Sexo\": \"Feminino\"},\n",
    "    {\"Nome\": \"Thomas\", \"País\": \"Alemanha\", \"Idade\": 45, \"Riqueza\": 214000, \"Profissão\": \"Professor\", \"Raça\": \"Branca\", \"Sexo\": \"Masculino\"},\n",
    "    {\"Nome\": \"Priya\", \"País\": \"Índia\", \"Idade\": 30, \"Riqueza\": 18000, \"Profissão\": \"Analista de Dados\", \"Raça\": \"Parda\", \"Sexo\": \"Feminino\"},\n",
    "    {\"Nome\": \"Ahmed\", \"País\": \"Egito\", \"Idade\": 40, \"Riqueza\": 8000, \"Profissão\": \"Arquiteto\", \"Raça\": \"Negra\", \"Sexo\": \"Masculino\"},\n",
    "    {\"Nome\": \"Maria\", \"País\": \"Brasil\", \"Idade\": 25, \"Riqueza\": 22000, \"Profissão\": \"Engenheira\", \"Raça\": \"Branca\", \"Sexo\": \"Feminino\"},\n",
    "    {\"Nome\": \"Pedro\", \"País\": \"Portugal\", \"Idade\": 38, \"Riqueza\": 175000, \"Profissão\": \"Médico\", \"Raça\": \"Negra\", \"Sexo\": \"Masculino\"},\n",
    "    {\"Nome\": \"Haruto\", \"País\": \"Japão\", \"Idade\": 26, \"Riqueza\": 50000, \"Profissão\": \"Designer\", \"Raça\": \"Asiática\", \"Sexo\": \"Masculino\"},\n",
    "    {\"Nome\": \"Laura\", \"País\": \"Alemanha\", \"Idade\": 32, \"Riqueza\": 190000, \"Profissão\": \"Professora\", \"Raça\": \"Branca\", \"Sexo\": \"Feminino\"},\n",
    "    {\"Nome\": \"Ravi\", \"País\": \"Índia\", \"Idade\": 29, \"Riqueza\": 20000, \"Profissão\": \"Analista de Dados\", \"Raça\": \"Parda\", \"Sexo\": \"Masculino\"},\n",
    "    {\"Nome\": \"Fatima\", \"País\": \"Egito\", \"Idade\": 35, \"Riqueza\": 9000, \"Profissão\": \"Arquiteta\", \"Raça\": \"Negra\", \"Sexo\": \"Feminino\"},\n",
    "    {\"Nome\": \"Lucas\", \"País\": \"Brasil\", \"Idade\": 27, \"Riqueza\": 21000, \"Profissão\": \"Engenheiro\", \"Raça\": \"Branca\", \"Sexo\": \"Masculino\"},\n",
    "    {\"Nome\": \"Sofia\", \"País\": \"Portugal\", \"Idade\": 31, \"Riqueza\": 168000, \"Profissão\": \"Médica\", \"Raça\": \"Negra\", \"Sexo\": \"Feminino\"},\n",
    "    {\"Nome\": \"Yuki\", \"País\": \"Japão\", \"Idade\": 23, \"Riqueza\": 48000, \"Profissão\": \"Designer\", \"Raça\": \"Asiática\", \"Sexo\": \"Feminino\"},\n",
    "    {\"Nome\": \"Hans\", \"País\": \"Alemanha\", \"Idade\": 44, \"Riqueza\": 210000, \"Profissão\": \"Professor\", \"Raça\": \"Branca\", \"Sexo\": \"Masculino\"},\n",
    "    {\"Nome\": \"Ananya\", \"País\": \"Índia\", \"Idade\": 33, \"Riqueza\": 19000, \"Profissão\": \"Analista de Dados\", \"Raça\": \"Parda\", \"Sexo\": \"Feminino\"},\n",
    "    {\"Nome\": \"Omar\", \"País\": \"Egito\", \"Idade\": 42, \"Riqueza\": 8500, \"Profissão\": \"Arquiteto\", \"Raça\": \"Negra\", \"Sexo\": \"Masculino\"},\n",
    "    {\"Nome\": \"Bruno\", \"País\": \"Brasil\", \"Idade\": 29, \"Riqueza\": 23000, \"Profissão\": \"Engenheiro\", \"Raça\": \"Branca\", \"Sexo\": \"Masculino\"},\n",
    "    {\"Nome\": \"Clara\", \"País\": \"Portugal\", \"Idade\": 36, \"Riqueza\": 160000, \"Profissão\": \"Médica\", \"Raça\": \"Negra\", \"Sexo\": \"Feminino\"},\n",
    "    {\"Nome\": \"Haruto\", \"País\": \"Japão\", \"Idade\": 26, \"Riqueza\": 50000, \"Profissão\": \"Designer\", \"Raça\": \"Asiática\", \"Sexo\": \"Masculino\"},\n",
    "    {\"Nome\": \"Laura\", \"País\": \"Alemanha\", \"Idade\": 32, \"Riqueza\": 190000, \"Profissão\": \"Professora\", \"Raça\": \"Branca\", \"Sexo\": \"Feminino\"},\n",
    "    {\"Nome\": \"Ravi\", \"País\": \"Índia\", \"Idade\": 29, \"Riqueza\": 20000, \"Profissão\": \"Analista de Dados\", \"Raça\": \"Parda\", \"Sexo\": \"Masculino\"},\n",
    "    {\"Nome\": \"Fatima\", \"País\": \"Egito\", \"Idade\": 35, \"Riqueza\": 9000, \"Profissão\": \"Arquiteta\", \"Raça\": \"Negra\", \"Sexo\": \"Feminino\"},\n",
    "    {\"Nome\": \"Lucas\", \"País\": \"Brasil\", \"Idade\": 27, \"Riqueza\": 21000, \"Profissão\": \"Engenheiro\", \"Raça\": \"Branca\", \"Sexo\": \"Masculino\"},\n",
    "    {\"Nome\": \"Sofia\", \"País\": \"Portugal\", \"Idade\": 31, \"Riqueza\": 168000, \"Profissão\": \"Médica\", \"Raça\": \"Negra\", \"Sexo\": \"Feminino\"},\n",
    "    {\"Nome\": \"Yuki\", \"País\": \"Japão\", \"Idade\": 23, \"Riqueza\": 48000, \"Profissão\": \"Designer\", \"Raça\": \"Asiática\", \"Sexo\": \"Feminino\"},\n",
    "    {\"Nome\": \"Hans\", \"País\": \"Alemanha\", \"Idade\": 44, \"Riqueza\": 210000, \"Profissão\": \"Professor\", \"Raça\": \"Branca\", \"Sexo\": \"Masculino\"},\n",
    "    {\"Nome\": \"Ananya\", \"País\": \"Índia\", \"Idade\": 33, \"Riqueza\": 19000, \"Profissão\": \"Analista de Dados\", \"Raça\": \"Parda\", \"Sexo\": \"Feminino\"},\n",
    "    {\"Nome\": \"Omar\", \"País\": \"Egito\", \"Idade\": 42, \"Riqueza\": 8500, \"Profissão\": \"Arquiteto\", \"Raça\": \"Negra\", \"Sexo\": \"Masculino\"},\n",
    "    {\"Nome\": \"Bruno\", \"País\": \"Brasil\", \"Idade\": 29, \"Riqueza\": 23000, \"Profissão\": \"Engenheiro\", \"Raça\": \"Branca\", \"Sexo\": \"Masculino\"},\n",
    "    {\"Nome\": \"Clara\", \"País\": \"Portugal\", \"Idade\": 36, \"Riqueza\": 160000, \"Profissão\": \"Médica\", \"Raça\": \"Negra\", \"Sexo\": \"Feminino\"},\n",
    "    {\"Nome\": \"Taro\", \"País\": \"Japão\", \"Idade\": 22, \"Riqueza\": 47500, \"Profissão\": \"Designer\", \"Raça\": \"Asiática\", \"Sexo\": \"Masculino\"},\n",
    "    {\"Nome\": \"Frank\", \"País\": \"Alemanha\", \"Idade\": 41, \"Riqueza\": 202000, \"Profissão\": \"Professor\", \"Raça\": \"Branca\", \"Sexo\": \"Masculino\"},\n",
    "    {\"Nome\": \"Ritu\", \"País\": \"Índia\", \"Idade\": 29, \"Riqueza\": 19200, \"Profissão\": \"Analista de Dados\", \"Raça\": \"Parda\", \"Sexo\": \"Feminino\"},\n",
    "    {\"Nome\": \"Ali\", \"País\": \"Egito\", \"Idade\": 40, \"Riqueza\": 8200, \"Profissão\": \"Arquiteto\", \"Raça\": \"Negra\", \"Sexo\": \"Masculino\"},\n",
    "    {\"Nome\": \"Renata\", \"País\": \"Brasil\", \"Idade\": 25, \"Riqueza\": 20300, \"Profissão\": \"Engenheira\", \"Raça\": \"Branca\", \"Sexo\": \"Feminino\"},\n",
    "    {\"Nome\": \"Miguel\", \"País\": \"Portugal\", \"Idade\": 37, \"Riqueza\": 174000, \"Profissão\": \"Médico\", \"Raça\": \"Negra\", \"Sexo\": \"Masculino\"},\n",
    "    {\"Nome\": \"Sachiko\", \"País\": \"Japão\", \"Idade\": 26, \"Riqueza\": 48200, \"Profissão\": \"Designer\", \"Raça\": \"Asiática\", \"Sexo\": \"Feminino\"},\n",
    "    {\"Nome\": \"Greta\", \"País\": \"Alemanha\", \"Idade\": 38, \"Riqueza\": 187000, \"Profissão\": \"Professora\", \"Raça\": \"Branca\", \"Sexo\": \"Feminino\"},\n",
    "    {\"Nome\": \"Daniel\", \"País\": \"Brasil\", \"Idade\": 29, \"Riqueza\": 21700, \"Profissão\": \"Engenheiro\", \"Raça\": \"Branca\", \"Sexo\": \"Masculino\"},\n",
    "    {\"Nome\": \"Catarina\", \"País\": \"Portugal\", \"Idade\": 33, \"Riqueza\": 164500, \"Profissão\": \"Médica\", \"Raça\": \"Negra\", \"Sexo\": \"Feminino\"},\n",
    "    {\"Nome\": \"Naoki\", \"País\": \"Japão\", \"Idade\": 28, \"Riqueza\": 46800, \"Profissão\": \"Designer\", \"Raça\": \"Asiática\", \"Sexo\": \"Masculino\"},\n",
    "    {\"Nome\": \"Lars\", \"País\": \"Alemanha\", \"Idade\": 44, \"Riqueza\": 211000, \"Profissão\": \"Professor\", \"Raça\": \"Branca\", \"Sexo\": \"Masculino\"},\n",
    "    {\"Nome\": \"Kavita\", \"País\": \"Índia\", \"Idade\": 32, \"Riqueza\": 17800, \"Profissão\": \"Analista de Dados\", \"Raça\": \"Parda\", \"Sexo\": \"Feminino\"},\n",
    "    {\"Nome\": \"Mustafa\", \"País\": \"Egito\", \"Idade\": 39, \"Riqueza\": 9000, \"Profissão\": \"Arquiteto\", \"Raça\": \"Negra\", \"Sexo\": \"Masculino\"},\n",
    "    {\"Nome\": \"Fernanda\", \"País\": \"Brasil\", \"Idade\": 27, \"Riqueza\": 20900, \"Profissão\": \"Engenheira\", \"Raça\": \"Branca\", \"Sexo\": \"Feminino\"},\n",
    "    {\"Nome\": \"Tiago\", \"País\": \"Portugal\", \"Idade\": 35, \"Riqueza\": 163000, \"Profissão\": \"Médico\", \"Raça\": \"Negra\", \"Sexo\": \"Masculino\"},\n",
    "    {\"Nome\": \"Ayumi\", \"País\": \"Japão\", \"Idade\": 24, \"Riqueza\": 45500, \"Profissão\": \"Designer\", \"Raça\": \"Asiática\", \"Sexo\": \"Feminino\"},\n",
    "    {\"Nome\": \"Ingrid\", \"País\": \"Alemanha\", \"Idade\": 42, \"Riqueza\": 206000, \"Profissão\": \"Professora\", \"Raça\": \"Branca\", \"Sexo\": \"Feminino\"},\n",
    "    {\"Nome\": \"Arjun\", \"País\": \"Índia\", \"Idade\": 34, \"Riqueza\": 16500, \"Profissão\": \"Analista de Dados\", \"Raça\": \"Parda\", \"Sexo\": \"Masculino\"},\n",
    "    {\"Nome\": \"Noor\", \"País\": \"Egito\", \"Idade\": 38, \"Riqueza\": 7200, \"Profissão\": \"Arquiteta\", \"Raça\": \"Negra\", \"Sexo\": \"Feminino\"},\n",
    "    {\"Nome\": \"Henrique\", \"País\": \"Brasil\", \"Idade\": 30, \"Riqueza\": 22200, \"Profissão\": \"Engenheiro\", \"Raça\": \"Branca\", \"Sexo\": \"Masculino\"},\n",
    "    {\"Nome\": \"Francisco\", \"País\": \"Portugal\", \"Idade\": 31, \"Riqueza\": 169000, \"Profissão\": \"Médico\", \"Raça\": \"Negra\", \"Sexo\": \"Masculino\"},\n",
    "    {\"Nome\": \"Yumi\", \"País\": \"Japão\", \"Idade\": 27, \"Riqueza\": 49500, \"Profissão\": \"Designer\", \"Raça\": \"Asiática\", \"Sexo\": \"Feminino\"},\n",
    "    {\"Nome\": \"Dieter\", \"País\": \"Alemanha\", \"Idade\": 45, \"Riqueza\": 212500, \"Profissão\": \"Professor\", \"Raça\": \"Branca\", \"Sexo\": \"Masculino\"},\n",
    "    {\"Nome\": \"Nisha\", \"País\": \"Índia\", \"Idade\": 29, \"Riqueza\": 18000, \"Profissão\": \"Analista de Dados\", \"Raça\": \"Parda\", \"Sexo\": \"Feminino\"},\n",
    "    {\"Nome\": \"Ibrahim\", \"País\": \"Egito\", \"Idade\": 40, \"Riqueza\": 8400, \"Profissão\": \"Arquiteto\", \"Raça\": \"Negra\", \"Sexo\": \"Masculino\"},\n",
    "    {\"Nome\": \"Carolina\", \"País\": \"Brasil\", \"Idade\": 26, \"Riqueza\": 21000, \"Profissão\": \"Engenheira\", \"Raça\": \"Branca\", \"Sexo\": \"Feminino\"},\n",
    "    {\"Nome\": \"Manuel\", \"País\": \"Portugal\", \"Idade\": 32, \"Riqueza\": 168500, \"Profissão\": \"Médico\", \"Raça\": \"Negra\", \"Sexo\": \"Masculino\"},\n",
    "    {\"Nome\": \"Kenji\", \"País\": \"Japão\", \"Idade\": 28, \"Riqueza\": 46500, \"Profissão\": \"Designer\", \"Raça\": \"Asiática\", \"Sexo\": \"Masculino\"},\n",
    "    {\"Nome\": \"Erika\", \"País\": \"Alemanha\", \"Idade\": 43, \"Riqueza\": 208000, \"Profissão\": \"Professora\", \"Raça\": \"Branca\", \"Sexo\": \"Feminino\"},\n",
    "    {\"Nome\": \"Vikram\", \"País\": \"Índia\", \"Idade\": 35, \"Riqueza\": 16000, \"Profissão\": \"Analista de Dados\", \"Raça\": \"Parda\", \"Sexo\": \"Masculino\"},\n",
    "    {\"Nome\": \"Salma\", \"País\": \"Egito\", \"Idade\": 36, \"Riqueza\": 7500, \"Profissão\": \"Arquiteta\", \"Raça\": \"Negra\", \"Sexo\": \"Feminino\"},\n",
    "    {\"Nome\": \"Marcos\", \"País\": \"Brasil\", \"Idade\": 28, \"Riqueza\": 19500, \"Profissão\": \"Engenheiro\", \"Raça\": \"Branca\", \"Sexo\": \"Masculino\"},\n",
    "    {\"Nome\": \"Rita\", \"País\": \"Portugal\", \"Idade\": 34, \"Riqueza\": 162000, \"Profissão\": \"Médica\", \"Raça\": \"Negra\", \"Sexo\": \"Feminino\"},\n",
    "    {\"Nome\": \"Taro\", \"País\": \"Japão\", \"Idade\": 22, \"Riqueza\": 47500, \"Profissão\": \"Designer\", \"Raça\": \"Asiática\", \"Sexo\": \"Masculino\"},\n",
    "    {\"Nome\": \"Frank\", \"País\": \"Alemanha\", \"Idade\": 41, \"Riqueza\": 202000, \"Profissão\": \"Professor\", \"Raça\": \"Branca\", \"Sexo\": \"Masculino\"},\n",
    "    {\"Nome\": \"Ritu\", \"País\": \"Índia\", \"Idade\": 29, \"Riqueza\": 19200, \"Profissão\": \"Analista de Dados\", \"Raça\": \"Parda\", \"Sexo\": \"Feminino\"},\n",
    "    {\"Nome\": \"Helena\", \"País\": \"Alemanha\", \"Idade\": 40, \"Riqueza\": 200000, \"Profissão\": \"Professora\", \"Raça\": \"Branca\", \"Sexo\": \"Feminino\"},\n",
    "    {\"Nome\": \"Karl\", \"País\": \"Alemanha\", \"Idade\": 46, \"Riqueza\": 215000, \"Profissão\": \"Professor\", \"Raça\": \"Branca\", \"Sexo\": \"Masculino\"},\n",
    "    {\"Nome\": \"Meera\", \"País\": \"Índia\", \"Idade\": 31, \"Riqueza\": 18500, \"Profissão\": \"Analista de Dados\", \"Raça\": \"Parda\", \"Sexo\": \"Feminino\"},\n",
    "    {\"Nome\": \"Hassan\", \"País\": \"Egito\", \"Idade\": 39, \"Riqueza\": 9500, \"Profissão\": \"Arquiteto\", \"Raça\": \"Negra\", \"Sexo\": \"Masculino\"},\n",
    "    {\"Nome\": \"Júlia\", \"País\": \"Brasil\", \"Idade\": 26, \"Riqueza\": 22500, \"Profissão\": \"Engenheira\", \"Raça\": \"Branca\", \"Sexo\": \"Feminino\"},\n",
    "    {\"Nome\": \"Gabriel\", \"País\": \"Portugal\", \"Idade\": 32, \"Riqueza\": 170000, \"Profissão\": \"Médico\", \"Raça\": \"Negra\", \"Sexo\": \"Masculino\"},\n",
    "    {\"Nome\": \"Hana\", \"País\": \"Japão\", \"Idade\": 25, \"Riqueza\": 45000, \"Profissão\": \"Designer\", \"Raça\": \"Asiática\", \"Sexo\": \"Feminino\"},\n",
    "    {\"Nome\": \"Erika\", \"País\": \"Alemanha\", \"Idade\": 43, \"Riqueza\": 208000, \"Profissão\": \"Professora\", \"Raça\": \"Branca\", \"Sexo\": \"Feminino\"},\n",
    "    {\"Nome\": \"Vikram\", \"País\": \"Índia\", \"Idade\": 35, \"Riqueza\": 16000, \"Profissão\": \"Analista de Dados\", \"Raça\": \"Parda\", \"Sexo\": \"Masculino\"},\n",
    "    {\"Nome\": \"Salma\", \"País\": \"Egito\", \"Idade\": 36, \"Riqueza\": 7500, \"Profissão\": \"Arquiteta\", \"Raça\": \"Negra\", \"Sexo\": \"Feminino\"},\n",
    "    {\"Nome\": \"Marcos\", \"País\": \"Brasil\", \"Idade\": 28, \"Riqueza\": 19500, \"Profissão\": \"Engenheiro\", \"Raça\": \"Branca\", \"Sexo\": \"Masculino\"},\n",
    "    {\"Nome\": \"Rita\", \"País\": \"Portugal\", \"Idade\": 34, \"Riqueza\": 162000, \"Profissão\": \"Médica\", \"Raça\": \"Negra\", \"Sexo\": \"Feminino\"},\n",
    "    {\"Nome\": \"Taro\", \"País\": \"Japão\", \"Idade\": 22, \"Riqueza\": 47500, \"Profissão\": \"Designer\", \"Raça\": \"Asiática\", \"Sexo\": \"Masculino\"},\n",
    "    {\"Nome\": \"Frank\", \"País\": \"Alemanha\", \"Idade\": 41, \"Riqueza\": 202000, \"Profissão\": \"Professor\", \"Raça\": \"Branca\", \"Sexo\": \"Masculino\"},\n",
    "    {\"Nome\": \"Ritu\", \"País\": \"Índia\", \"Idade\": 29, \"Riqueza\": 19200, \"Profissão\": \"Analista de Dados\", \"Raça\": \"Parda\", \"Sexo\": \"Feminino\"},\n",
    "    {\"Nome\": \"Ali\", \"País\": \"Egito\", \"Idade\": 40, \"Riqueza\": 8200, \"Profissão\": \"Arquiteto\", \"Raça\": \"Negra\", \"Sexo\": \"Masculino\"},\n",
    "    {\"Nome\": \"Renata\", \"País\": \"Brasil\", \"Idade\": 25, \"Riqueza\": 20300, \"Profissão\": \"Engenheira\", \"Raça\": \"Branca\", \"Sexo\": \"Feminino\"},\n",
    "    {\"Nome\": \"Miguel\", \"País\": \"Portugal\", \"Idade\": 37, \"Riqueza\": 174000, \"Profissão\": \"Médico\", \"Raça\": \"Negra\", \"Sexo\": \"Masculino\"},\n",
    "    {\"Nome\": \"Sachiko\", \"País\": \"Japão\", \"Idade\": 26, \"Riqueza\": 48200, \"Profissão\": \"Designer\", \"Raça\": \"Asiática\", \"Sexo\": \"Feminino\"},\n",
    "    {\"Nome\": \"Greta\", \"País\": \"Alemanha\", \"Idade\": 38, \"Riqueza\": 187000, \"Profissão\": \"Professora\", \"Raça\": \"Branca\", \"Sexo\": \"Feminino\"},\n",
    "    {\"Nome\": \"Raj\", \"País\": \"Índia\", \"Idade\": 30, \"Riqueza\": 18900, \"Profissão\": \"Analista de Dados\", \"Raça\": \"Parda\", \"Sexo\": \"Masculino\"},\n",
    "    {\"Nome\": \"Farida\", \"País\": \"Egito\", \"Idade\": 41, \"Riqueza\": 8300, \"Profissão\": \"Arquiteta\", \"Raça\": \"Negra\", \"Sexo\": \"Feminino\"},\n",
    "    {\"Nome\": \"Daniel\", \"País\": \"Brasil\", \"Idade\": 29, \"Riqueza\": 21700, \"Profissão\": \"Engenheiro\", \"Raça\": \"Branca\", \"Sexo\": \"Masculino\"},\n",
    "    {\"Nome\": \"Catarina\", \"País\": \"Portugal\", \"Idade\": 33, \"Riqueza\": 164500, \"Profissão\": \"Médica\", \"Raça\": \"Negra\", \"Sexo\": \"Feminino\"},\n",
    "    {\"Nome\": \"Naoki\", \"País\": \"Japão\", \"Idade\": 28, \"Riqueza\": 46800, \"Profissão\": \"Designer\", \"Raça\": \"Asiática\", \"Sexo\": \"Masculino\"},\n",
    "    {\"Nome\": \"Lars\", \"País\": \"Alemanha\", \"Idade\": 44, \"Riqueza\": 211000, \"Profissão\": \"Professor\", \"Raça\": \"Branca\", \"Sexo\": \"Masculino\"},\n",
    "    {\"Nome\": \"Kavita\", \"País\": \"Índia\", \"Idade\": 32, \"Riqueza\": 17800, \"Profissão\": \"Analista de Dados\", \"Raça\": \"Parda\", \"Sexo\": \"Feminino\"},\n",
    "    {\"Nome\": \"Mustafa\", \"País\": \"Egito\", \"Idade\": 39, \"Riqueza\": 9000, \"Profissão\": \"Arquiteto\", \"Raça\": \"Negra\", \"Sexo\": \"Masculino\"},\n",
    "    {\"Nome\": \"Fernanda\", \"País\": \"Brasil\", \"Idade\": 27, \"Riqueza\": 20900, \"Profissão\": \"Engenheira\", \"Raça\": \"Branca\", \"Sexo\": \"Feminino\"},\n",
    "    {\"Nome\": \"Tiago\", \"País\": \"Portugal\", \"Idade\": 35, \"Riqueza\": 163000, \"Profissão\": \"Médico\", \"Raça\": \"Negra\", \"Sexo\": \"Masculino\"}\n",
    "]"
   ]
  },
  {
   "cell_type": "markdown",
   "id": "14c06e01-a59e-44b5-b82a-4697f99d8880",
   "metadata": {},
   "source": [
    "<p style=\"color:#55FF55; font-family: 'Ink Free',  sans-serif; font-size: 30px; font-weight: bold;\">\n",
    "    Tratando dados para torna-los um dataframe em pandas\n",
    "</p>"
   ]
  },
  {
   "cell_type": "code",
   "execution_count": 4,
   "id": "5af930ec-d04f-420d-bbf8-4f3d058cebe2",
   "metadata": {
    "tags": []
   },
   "outputs": [],
   "source": [
    "name = []\n",
    "country= []\n",
    "age = []\n",
    "money = []\n",
    "work=[]\n",
    "race = []\n",
    "gender = []\n",
    "for i in pessoas:\n",
    "    name.append(i[\"Nome\"])\n",
    "    country.append(i[\"País\"])\n",
    "    age.append(i[\"Idade\"])\n",
    "    money.append(i[\"Riqueza\"])\n",
    "    work.append(i[\"Profissão\"])\n",
    "    race.append(i[\"Raça\"])\n",
    "    gender.append(i[\"Sexo\"])"
   ]
  },
  {
   "cell_type": "markdown",
   "id": "4b31c95f-d923-4606-82b0-882117bc8b68",
   "metadata": {},
   "source": [
    "<p style=\"color:#55FF55; font-family: 'Ink Free',  sans-serif; font-size: 30px; font-weight: bold;\">\n",
    "    Dataframe\n",
    "</p>"
   ]
  },
  {
   "cell_type": "code",
   "execution_count": 5,
   "id": "6b65101e-0b2a-464a-ad91-7df151223109",
   "metadata": {
    "tags": []
   },
   "outputs": [
    {
     "data": {
      "text/html": [
       "<div>\n",
       "<style scoped>\n",
       "    .dataframe tbody tr th:only-of-type {\n",
       "        vertical-align: middle;\n",
       "    }\n",
       "\n",
       "    .dataframe tbody tr th {\n",
       "        vertical-align: top;\n",
       "    }\n",
       "\n",
       "    .dataframe thead th {\n",
       "        text-align: right;\n",
       "    }\n",
       "</style>\n",
       "<table border=\"1\" class=\"dataframe\">\n",
       "  <thead>\n",
       "    <tr style=\"text-align: right;\">\n",
       "      <th></th>\n",
       "      <th>Name</th>\n",
       "      <th>Country</th>\n",
       "      <th>Age</th>\n",
       "      <th>Money</th>\n",
       "      <th>Work</th>\n",
       "      <th>Race</th>\n",
       "      <th>Gender</th>\n",
       "    </tr>\n",
       "  </thead>\n",
       "  <tbody>\n",
       "    <tr>\n",
       "      <th>0</th>\n",
       "      <td>Ana</td>\n",
       "      <td>Brasil</td>\n",
       "      <td>28</td>\n",
       "      <td>19000</td>\n",
       "      <td>Engenheira</td>\n",
       "      <td>Branca</td>\n",
       "      <td>Feminino</td>\n",
       "    </tr>\n",
       "    <tr>\n",
       "      <th>1</th>\n",
       "      <td>João</td>\n",
       "      <td>Portugal</td>\n",
       "      <td>34</td>\n",
       "      <td>161000</td>\n",
       "      <td>Médico</td>\n",
       "      <td>Negra</td>\n",
       "      <td>Masculino</td>\n",
       "    </tr>\n",
       "    <tr>\n",
       "      <th>2</th>\n",
       "      <td>Aiko</td>\n",
       "      <td>Japão</td>\n",
       "      <td>22</td>\n",
       "      <td>47000</td>\n",
       "      <td>Designer</td>\n",
       "      <td>Asiática</td>\n",
       "      <td>Feminino</td>\n",
       "    </tr>\n",
       "    <tr>\n",
       "      <th>3</th>\n",
       "      <td>Thomas</td>\n",
       "      <td>Alemanha</td>\n",
       "      <td>45</td>\n",
       "      <td>214000</td>\n",
       "      <td>Professor</td>\n",
       "      <td>Branca</td>\n",
       "      <td>Masculino</td>\n",
       "    </tr>\n",
       "    <tr>\n",
       "      <th>4</th>\n",
       "      <td>Priya</td>\n",
       "      <td>Índia</td>\n",
       "      <td>30</td>\n",
       "      <td>18000</td>\n",
       "      <td>Analista de Dados</td>\n",
       "      <td>Parda</td>\n",
       "      <td>Feminino</td>\n",
       "    </tr>\n",
       "  </tbody>\n",
       "</table>\n",
       "</div>"
      ],
      "text/plain": [
       "     Name   Country  Age   Money               Work      Race     Gender\n",
       "0     Ana    Brasil   28   19000         Engenheira    Branca   Feminino\n",
       "1    João  Portugal   34  161000             Médico     Negra  Masculino\n",
       "2    Aiko     Japão   22   47000           Designer  Asiática   Feminino\n",
       "3  Thomas  Alemanha   45  214000          Professor    Branca  Masculino\n",
       "4   Priya     Índia   30   18000  Analista de Dados     Parda   Feminino"
      ]
     },
     "execution_count": 5,
     "metadata": {},
     "output_type": "execute_result"
    }
   ],
   "source": [
    "df = {\"Name\": name, \"Country\":country, \"Age\":age,\"Money\":money, \"Work\":work,\"Race\":race,\"Gender\":gender}\n",
    "df = pd.DataFrame(df)\n",
    "df.head()"
   ]
  },
  {
   "cell_type": "markdown",
   "id": "154f479d-d934-4d20-965b-338000c9de34",
   "metadata": {},
   "source": [
    "<p style=\"color:#55FF55; font-family: 'Ink Free',  sans-serif; font-size: 30px; font-weight: bold;\">\n",
    "    Dataframe\n",
    "</p>\n",
    "<p style=\"color:#00FFFF; font-family: 'Ink Free',  sans-serif; font-size: 20px; font-weight: bold;\">\n",
    "   Informação relacionada à profissão dos individuos\n",
    "</p>"
   ]
  },
  {
   "cell_type": "code",
   "execution_count": 6,
   "id": "d1482329-6005-4cf6-a942-09d9aafb8364",
   "metadata": {
    "tags": []
   },
   "outputs": [
    {
     "name": "stdout",
     "output_type": "stream",
     "text": [
      "Work: Engenheira, amount: 8\n",
      "Work: Médico, amount: 9\n",
      "Work: Designer, amount: 16\n",
      "Work: Professor, amount: 10\n",
      "Work: Analista de Dados, amount: 16\n",
      "Work: Arquiteto, amount: 9\n",
      "Work: Professora, amount: 8\n",
      "Work: Arquiteta, amount: 6\n",
      "Work: Engenheiro, amount: 9\n",
      "Work: Médica, amount: 8\n"
     ]
    }
   ],
   "source": [
    "for i in df['Work'].unique():\n",
    "    uniWork = len(df[(df['Work']==i)])\n",
    "    print(f'Work: {i}, amount: {uniWork}')"
   ]
  },
  {
   "cell_type": "markdown",
   "id": "3b2a5f27-ed26-4464-92f6-bb3a8d340bd9",
   "metadata": {},
   "source": [
    "<p style=\"color:#00FFFF; font-family: 'Ink Free',  sans-serif; font-size: 20px; font-weight: bold;\">\n",
    "   Ao analisar as profissões, é interessante perceber que todos possuem uma profissão que seja necessário o ensino superior.\n",
    "</p>\n"
   ]
  },
  {
   "cell_type": "markdown",
   "id": "a69ca1f2-8e72-4835-8a03-dce655636cbc",
   "metadata": {},
   "source": [
    "<p style=\"color:#55FF55; font-family: 'Ink Free',  sans-serif; font-size: 30px; font-weight: bold;\">\n",
    "    Idade relacionada ao salário\n",
    "</p>"
   ]
  },
  {
   "cell_type": "code",
   "execution_count": 7,
   "id": "495062c4-80f9-43a9-998d-e0721c290584",
   "metadata": {
    "tags": []
   },
   "outputs": [
    {
     "name": "stdout",
     "output_type": "stream",
     "text": [
      "------------------------------------\n",
      "        Riqueza mínima: R$7200 \n",
      "        Riqueza máxima: R$215000\n",
      "        Idade mínima: 22\n",
      "        Idade máxima: 46\n",
      "------------------------------------\n"
     ]
    }
   ],
   "source": [
    "print('------------------------------------')\n",
    "print(f'        Riqueza mínima: R${df[\"Money\"].min()} ')\n",
    "print(f'        Riqueza máxima: R${df[\"Money\"].max()}')\n",
    "print(f'        Idade mínima: {df[\"Age\"].min()}')\n",
    "print(f'        Idade máxima: {df[\"Age\"].max()}')\n",
    "print('------------------------------------')"
   ]
  },
  {
   "cell_type": "markdown",
   "id": "75f6e2ae-4066-477a-85fd-668e8e556e33",
   "metadata": {
    "tags": []
   },
   "source": [
    "<p style=\"color:#00FFFF; font-family: 'Ink Free',  sans-serif; font-size: 20px; font-weight: bold;\">\n",
    "         Para identifica se a riqueza é relacionada à idade, os dados serão correlacionados usando uma técnica de estatística que o resultado é algo entre o -1 e 1.\n",
    "</p>\n",
    "\n",
    "$$\n",
    "r = \\frac{\\sum_{i=1}^{n} (x_i - \\bar{x})(y_i - \\bar{y})}{\\sqrt{\\sum_{i=1}^{n} (x_i - \\bar{x})^2 \\sum_{i=1}^{n} (y_i - \\bar{y})^2}}\n",
    "$$\n",
    "\n",
    "Onde:\n",
    "- \\( x \\) representa a riqueza.\n",
    "- \\( y \\) representa a idade.\n",
    "\n",
    "\n",
    "\n",
    "\n",
    "\n",
    "<p style=\"color:#00FFFF; font-family: 'Ink Free',  sans-serif; font-size: 20px; font-weight: bold;\">\n",
    "         Quanto mais próximo à -1, os dados são negativamentes correlacionado, para algo próximo à 0, os dados não há uma correlação diréta ja para dados mais próximos à 1,\n",
    "    os dados aprezentam uma forte correlação\n",
    "</p>"
   ]
  },
  {
   "cell_type": "code",
   "execution_count": 8,
   "id": "6ba5322c-6a75-4ec2-aaee-4df4548b2ef3",
   "metadata": {
    "tags": []
   },
   "outputs": [],
   "source": [
    "correlacao = df.drop(['Name','Country','Work','Race','Gender'],axis=1)"
   ]
  },
  {
   "cell_type": "code",
   "execution_count": 9,
   "id": "c95033ec-057b-4286-bb9d-9c8a427c4bde",
   "metadata": {
    "tags": []
   },
   "outputs": [
    {
     "data": {
      "text/html": [
       "<div>\n",
       "<style scoped>\n",
       "    .dataframe tbody tr th:only-of-type {\n",
       "        vertical-align: middle;\n",
       "    }\n",
       "\n",
       "    .dataframe tbody tr th {\n",
       "        vertical-align: top;\n",
       "    }\n",
       "\n",
       "    .dataframe thead th {\n",
       "        text-align: right;\n",
       "    }\n",
       "</style>\n",
       "<table border=\"1\" class=\"dataframe\">\n",
       "  <thead>\n",
       "    <tr style=\"text-align: right;\">\n",
       "      <th></th>\n",
       "      <th>Age</th>\n",
       "      <th>Money</th>\n",
       "    </tr>\n",
       "  </thead>\n",
       "  <tbody>\n",
       "    <tr>\n",
       "      <th>0</th>\n",
       "      <td>28</td>\n",
       "      <td>19000</td>\n",
       "    </tr>\n",
       "    <tr>\n",
       "      <th>1</th>\n",
       "      <td>34</td>\n",
       "      <td>161000</td>\n",
       "    </tr>\n",
       "    <tr>\n",
       "      <th>2</th>\n",
       "      <td>22</td>\n",
       "      <td>47000</td>\n",
       "    </tr>\n",
       "    <tr>\n",
       "      <th>3</th>\n",
       "      <td>45</td>\n",
       "      <td>214000</td>\n",
       "    </tr>\n",
       "    <tr>\n",
       "      <th>4</th>\n",
       "      <td>30</td>\n",
       "      <td>18000</td>\n",
       "    </tr>\n",
       "  </tbody>\n",
       "</table>\n",
       "</div>"
      ],
      "text/plain": [
       "   Age   Money\n",
       "0   28   19000\n",
       "1   34  161000\n",
       "2   22   47000\n",
       "3   45  214000\n",
       "4   30   18000"
      ]
     },
     "execution_count": 9,
     "metadata": {},
     "output_type": "execute_result"
    }
   ],
   "source": [
    "correlacao.head()"
   ]
  },
  {
   "cell_type": "code",
   "execution_count": 10,
   "id": "695febea-c840-4c0b-be9f-c6ddf129890a",
   "metadata": {
    "tags": []
   },
   "outputs": [
    {
     "data": {
      "text/html": [
       "<div>\n",
       "<style scoped>\n",
       "    .dataframe tbody tr th:only-of-type {\n",
       "        vertical-align: middle;\n",
       "    }\n",
       "\n",
       "    .dataframe tbody tr th {\n",
       "        vertical-align: top;\n",
       "    }\n",
       "\n",
       "    .dataframe thead th {\n",
       "        text-align: right;\n",
       "    }\n",
       "</style>\n",
       "<table border=\"1\" class=\"dataframe\">\n",
       "  <thead>\n",
       "    <tr style=\"text-align: right;\">\n",
       "      <th></th>\n",
       "      <th>Age</th>\n",
       "      <th>Money</th>\n",
       "    </tr>\n",
       "  </thead>\n",
       "  <tbody>\n",
       "    <tr>\n",
       "      <th>Age</th>\n",
       "      <td>1.0000</td>\n",
       "      <td>0.5202</td>\n",
       "    </tr>\n",
       "    <tr>\n",
       "      <th>Money</th>\n",
       "      <td>0.5202</td>\n",
       "      <td>1.0000</td>\n",
       "    </tr>\n",
       "  </tbody>\n",
       "</table>\n",
       "</div>"
      ],
      "text/plain": [
       "          Age   Money\n",
       "Age    1.0000  0.5202\n",
       "Money  0.5202  1.0000"
      ]
     },
     "execution_count": 10,
     "metadata": {},
     "output_type": "execute_result"
    }
   ],
   "source": [
    "correlacao.corr()"
   ]
  },
  {
   "cell_type": "markdown",
   "id": "b4577485-b0af-4f46-8a3b-14fd760d9ac7",
   "metadata": {},
   "source": [
    "<p style=\"color:#55FF55; font-family: 'Ink Free',  sans-serif; font-size: 30px; font-weight: bold;\">\n",
    "        Os fatores de correlação, demonstram algo próximo à 0.52, resultando em algo com uma boa correlação\n",
    "</p>"
   ]
  },
  {
   "cell_type": "markdown",
   "id": "c970f37a-8a4a-4537-8331-3edbc9c8c042",
   "metadata": {
    "tags": []
   },
   "source": [
    "<p style=\"color:#55FF55; font-family: 'Ink Free',  sans-serif; font-size: 30px; font-weight: bold;\">\n",
    "        Plotando o gráfico para observar a linha de correlação\n",
    "</p>"
   ]
  },
  {
   "cell_type": "code",
   "execution_count": 14,
   "id": "df4125f2-e5c3-4787-82f1-6926ded9efc2",
   "metadata": {
    "tags": []
   },
   "outputs": [
    {
     "data": {
      "text/plain": [
       "<seaborn.axisgrid.JointGrid at 0x1a6c0cbc610>"
      ]
     },
     "execution_count": 14,
     "metadata": {},
     "output_type": "execute_result"
    },
    {
     "data": {
      "image/png": "[encoded data removed]",
      "text/plain": [
       "<Figure size 600x600 with 3 Axes>"
      ]
     },
     "metadata": {},
     "output_type": "display_data"
    }
   ],
   "source": [
    "import seaborn as sns\n",
    "sns.jointplot(x='Money', y='Age', data=correlacao, kind='reg')"
   ]
  },
  {
   "cell_type": "markdown",
   "id": "c11dae10-8d19-4c6e-bcef-8840c1077b3c",
   "metadata": {},
   "source": [
    "<p style=\"color:#00FFFF; font-family: 'Ink Free',  sans-serif; font-size: 20px; font-weight: bold;\">\n",
    "        Ao correlacionar os dados, é possível observar que a média dos individuos está próxima aos 30 anos, e que as riquezas estão mais próximos à individuos com 40 anos\n",
    "</p>"
   ]
  },
  {
   "cell_type": "code",
   "execution_count": 16,
   "id": "87d701b3-5b67-42f8-b87d-b56168fdfee1",
   "metadata": {
    "tags": []
   },
   "outputs": [
    {
     "data": {
      "text/plain": [
       "<seaborn.axisgrid.FacetGrid at 0x1a6c41da2f0>"
      ]
     },
     "execution_count": 16,
     "metadata": {},
     "output_type": "execute_result"
    },
    {
     "data": {
      "image/png": "[encoded data removed]",
      "text/plain": [
       "<Figure size 620.125x500 with 1 Axes>"
      ]
     },
     "metadata": {},
     "output_type": "display_data"
    }
   ],
   "source": [
    "sns.lmplot(x='Money', y='Age', data=df, hue='Country')"
   ]
  },
  {
   "cell_type": "markdown",
   "id": "6a8ea321-9725-4016-a08c-22ecf5c4d583",
   "metadata": {},
   "source": [
    "<p style=\"color:#00FFFF; font-family: 'Ink Free',  sans-serif; font-size: 20px; font-weight: bold;\">\n",
    "        Como os dados não possuem uma distribuição variadas em relação à idade para cada nacionalidade, não dá para comparar as riquezas de cada subgrupo.\n",
    "    Por exemplo:\n",
    "        Para individuos com a nacionalidade japonesa, há uma limitação de idades abaixo de 30 anos, e para alemães, os individuos tem aproximadamente 40 anos. E segundo a análise anterior, os dados indicam que as maiores riqueza estão em individuos com idade próxima aos 40 anos. Então não da para ter noção de riqueza, pois, amostras com individuos de paises desenvolvidos, não possui adultos de até 30 anos o suficiente para analisar ou como no caso do japão, não possui adultos com mais de 30 anos.\n",
    "</p>"
   ]
  },
  {
   "cell_type": "code",
   "execution_count": null,
   "id": "e502bfe0-f42f-48a6-9dc9-ecee51caecdc",
   "metadata": {},
   "outputs": [],
   "source": []
  }
 ],
 "metadata": {
  "kernelspec": {
   "display_name": "Python 3 (ipykernel)",
   "language": "python",
   "name": "python3"
  },
  "language_info": {
   "codemirror_mode": {
    "name": "ipython",
    "version": 3
   },
   "file_extension": ".py",
   "mimetype": "text/x-python",
   "name": "python",
   "nbconvert_exporter": "python",
   "pygments_lexer": "ipython3",
   "version": "3.10.9"
  }
 },
 "nbformat": 4,
 "nbformat_minor": 5
}
